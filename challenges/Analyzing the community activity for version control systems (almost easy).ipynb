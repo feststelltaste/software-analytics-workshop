{
 "cells": [
  {
   "cell_type": "markdown",
   "metadata": {},
   "source": [
    "# Analyzing the community activity for version control systems"
   ]
  },
  {
   "cell_type": "markdown",
   "metadata": {},
   "source": [
    "## Challenge\n",
    "\n",
    "_Level: Easy_\n",
    "\n",
    "### Background\n",
    "\n",
    "Technology choices are different. There may be objective reasons for technology at a specific time. But those reasons often change over time. But the developed deep love for an now outdated technology can prevent every progress. Thus objective reasons may become subjective which can create a toxic environment when technology updates are addressed.\n",
    "\n",
    "### Your task\n",
    "\n",
    "You are a new team member in a software company. The developers there are using a version control system (\"VCS\" for short) called CVS (Concurrent Versions System). Some want to migrate to a better VCS. They prefer one that's called SVN (Subversion). You are young but not inexperienced. You heard about newer version control system named \"Git\". So you propose Git as an alternative to the team. They are very sceptical about your suggestion. Find evidence that shows that the software development community is mainly adopting the Git version control system!\n",
    "\n",
    "### Your Approach?\n",
    "\n",
    "Write down your approach in the Software Analytics Canvas!"
   ]
  },
  {
   "cell_type": "markdown",
   "metadata": {},
   "source": [
    "<div style=\"margin-top:50px;margin-bottom:1000px;\">\n",
    "    <i><b>Clueless? Scroll down to see a dataset that could help you!</b></i>\n",
    "</div>"
   ]
  },
  {
   "cell_type": "markdown",
   "metadata": {},
   "source": [
    "### The Dataset\n",
    "\n",
    "There is a dataset from the online software developer community Stack Overflow in `../datasets/stackoverflow_vcs_data_subset.gz` available with the following data:\n",
    "\n",
    "* `CreationDate`: the timestamp of the creation date of a Stack Overflow post (= question)\n",
    "* `TagName`: the tag name for a technology (in our case for only 4 VCSes: \"cvs\", \"svn\", \"git\" and \"mercurial\")\n",
    "* `ViewCount`: the numbers of views of a post\n",
    "\n",
    "These are the first 10 entries of this dataset:\n",
    "\n",
    "<small>\n",
    "<code>\n",
    "CreationDate,TagName,ViewCount\n",
    "2008-08-01 13:56:33,svn,10880\n",
    "2008-08-01 14:41:24,svn,55075\n",
    "2008-08-01 15:22:29,svn,15144\n",
    "2008-08-01 18:00:13,svn,8010\n",
    "2008-08-01 18:33:08,svn,92006\n",
    "2008-08-01 23:29:32,svn,2444\n",
    "2008-08-03 22:38:29,svn,871830\n",
    "2008-08-03 22:38:29,git,871830\n",
    "2008-08-04 11:37:24,svn,17969\n",
    "</code>\n",
    "</small>"
   ]
  }
 ],
 "metadata": {
  "kernelspec": {
   "display_name": "Python 3",
   "language": "python",
   "name": "python3"
  },
  "language_info": {
   "codemirror_mode": {
    "name": "ipython",
    "version": 3
   },
   "file_extension": ".py",
   "mimetype": "text/x-python",
   "name": "python",
   "nbconvert_exporter": "python",
   "pygments_lexer": "ipython3",
   "version": "3.8.3"
  }
 },
 "nbformat": 4,
 "nbformat_minor": 2
}
