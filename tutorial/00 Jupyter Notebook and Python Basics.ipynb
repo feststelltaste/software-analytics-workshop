{
    "cells": [
        {
            "cell_type": "markdown",
            "metadata": {},
            "source": [
                "# Software Analytics Mini Tutorial Part I: Jupyter Notebook and Python basics"
            ]
        },
        {
            "cell_type": "markdown",
            "metadata": {},
            "source": [
                "## Introduction\n",
                "This series of notebooks are a simple mini tutorial to introduce you to the basic functionality of Jupyter, Python, pandas and matplotlib. The comprehensive explanations should guide you to be able to analyze software data on your own. Therefore, the examples is chosen in such a way that we come across the typical methods in a data analysis. Have fun!\n",
                "\n",
                "*This is part I: The basics of Jupyter Notebook and Python. For the data analysis framework pandas and the visualization library matplotlib, go to [the other tutorial](10%20pandas%20and%20matplotlib%20basics.ipynb).*"
            ]
        },
        {
            "cell_type": "markdown",
            "metadata": {},
            "source": [
                "## The Jupyter Notebook System\n",
                "First, we'll take a closer look at Jupyter Notebook. What you see here is Jupyter, the interactive notebook environment for programming. Jupyter Notebook allows us us to write code and documentation in executable **cells**.\n",
                "\n",
                "We see below a cell in which we can enter Python code.\n",
                "\n",
                "#### Execute a cell\n",
                "\n",
                "1. select the next cell (mouse click or arrow keys).\n",
                "1. type in for example `\"Hello World!`.\n",
                "1. execute the cell with a `Ctrl`+`Enter`. \n",
                "1. click on the cell again\n",
                "1. execute the cell with `Shift`+`Enter`."
            ]
        },
        {
            "cell_type": "code",
            "execution_count": null,
            "metadata": {
                "tags": [
                    "delete"
                ]
            },
            "outputs": [],
            "source": []
        },
        {
            "cell_type": "markdown",
            "metadata": {},
            "source": [
                "##### Discussion\n",
                "\n",
                "* What's the difference between the two different ways of executing cells?"
            ]
        },
        {
            "cell_type": "markdown",
            "metadata": {
                "tags": [
                    "delete"
                ]
            },
            "source": []
        },
        {
            "cell_type": "markdown",
            "metadata": {},
            "source": [
                "#### Create a new cell\n",
                "\n",
                "We will use the built-in keyboard shortcuts for this:\n",
                "\n",
                "1. if not happened yet, click on this cell.\n",
                "1. enter **command mode**, selectable with `Esc` key.\n",
                "1. create a **new cell** after this text by pressing the  key `b`.\n",
                "1. change the **cell type** to **Markdown** with key `m`.\n",
                "1. switch to **edit mode** with `Enter`\n",
                "1. write a text\n",
                "1. execute cell with `Ctrl` + `Enter`."
            ]
        },
        {
            "cell_type": "markdown",
            "metadata": {},
            "source": [
                "*Additional information:*\n",
                "\n",
                "* We've seen an important feature of Jupyter Notebook: The distinction between **command mode** (accessible via the `Esc` key) and **edit mode** (accessible via the `Enter` key). Note the differences:\n",
                " * In command mode, the border of the current cell is blue. This mode allows you to manipulate the **notebook**'s content.\n",
                " * In edit mode, the border turns green. This allows you to manipulate the **cell**'s content.\n",
                "\n",
                "* **Markdown** is a simple markup language that can be used to write and format texts. This allows us to directly document the steps we have taken."
            ]
        },
        {
            "cell_type": "markdown",
            "metadata": {},
            "source": [
                "## Python Basics\n",
                "Let's take a look at some basic Python programming constructs that we will need later when working with the pandas data analysis framework.\n",
                "\n",
                "We look at very basic functions:\n",
                "\n",
                "* variable assignments\n",
                "* value range accesses\n",
                "* method calls"
            ]
        },
        {
            "cell_type": "markdown",
            "metadata": {},
            "source": [
                "#### Assign text to a variable\n",
                "1. **assign** the text **value** \"Hello World\" to the **variable** `text` by using the syntax `<variable> = <value>`. \n",
                "1. type the variable `text` in the next line and execute the cell.\n",
                "1. execute the cell (this will be necessary for each upcoming cell, so we won't mention it from now on)"
            ]
        },
        {
            "cell_type": "code",
            "execution_count": null,
            "metadata": {
                "tags": [
                    "delete"
                ]
            },
            "outputs": [],
            "source": []
        },
        {
            "cell_type": "markdown",
            "metadata": {},
            "source": [
                "#### Accessing slices of information\n",
                "\n",
                "By using the array notation with the square brackets `[` and `]` (the slice operators), we can access the first letter of our text with a 0-based index (this also works for other types like lists).\n",
                "\n",
                "1. access the first letter in `text` with `[0]`."
            ]
        },
        {
            "cell_type": "code",
            "execution_count": null,
            "metadata": {
                "tags": [
                    "delete"
                ]
            },
            "outputs": [],
            "source": []
        },
        {
            "cell_type": "markdown",
            "metadata": {},
            "source": [
                "#### Select last character\n",
                "1. access the last letter in `text` with `[-1]`."
            ]
        },
        {
            "cell_type": "code",
            "execution_count": null,
            "metadata": {
                "tags": [
                    "delete"
                ]
            },
            "outputs": [],
            "source": []
        },
        {
            "cell_type": "markdown",
            "metadata": {},
            "source": [
                "#### Select  ranges\n",
                "1. access a range of `text` with the **slice** `[2:5]`."
            ]
        },
        {
            "cell_type": "code",
            "execution_count": null,
            "metadata": {
                "tags": [
                    "delete"
                ]
            },
            "outputs": [],
            "source": []
        },
        {
            "cell_type": "markdown",
            "metadata": {},
            "source": [
                "#### Select open ranges\n",
                "1. access an open range with the slice `[:5]` (which is an abbreviation for a 0-based slice `[0:5]`)"
            ]
        },
        {
            "cell_type": "code",
            "execution_count": null,
            "metadata": {
                "tags": [
                    "delete"
                ]
            },
            "outputs": [],
            "source": []
        },
        {
            "cell_type": "markdown",
            "metadata": {},
            "source": [
                "#### Reverse a list of values\n",
                "1. reverse the text (or a list) by using the `::` notation with an following `-1`."
            ]
        },
        {
            "cell_type": "code",
            "execution_count": null,
            "metadata": {
                "tags": [
                    "delete"
                ]
            },
            "outputs": [],
            "source": []
        },
        {
            "cell_type": "markdown",
            "metadata": {},
            "source": [
                "#### Use auto completion and execute a method\n",
                "1. append a `.` to `text` and look at the functions with the `Tab` key.\n",
                "1. find and execute the **method** `upper()` of the `text` object (Tip: Type a `u` when using auto completion)."
            ]
        },
        {
            "cell_type": "code",
            "execution_count": null,
            "metadata": {
                "tags": [
                    "delete"
                ]
            },
            "outputs": [],
            "source": []
        },
        {
            "cell_type": "markdown",
            "metadata": {},
            "source": [
                "#### Execute a method with parameters\n",
                "\n",
                "...and find out how this works by using the integrated, interactive documentation:\n",
                "1. select the `split` method of `text`.\n",
                "1. press `Shift`+`Tab`.\n",
                "1. press `Shift`+`Tab` twice in quick succession.\n",
                "1. press `Shift`+`Tab` three times in quick succession (and then `ESC` to hide).\n",
                "1. read the documentation of `split`\n",
                "1. split the text in `text` with `split` exactly once (**parameter** `maxsplit`) apart by using an `l` (a lower case \"L\") as separator (parameter `sep`).\n",
                "\n",
                "*Note: What we are using here additionally is Python's feature to swap the methods parameter. This works, if you assign the inputs directly to the method argument's name (e.g. `maxsplit=1`)."
            ]
        },
        {
            "cell_type": "code",
            "execution_count": null,
            "metadata": {
                "tags": [
                    "delete"
                ]
            },
            "outputs": [],
            "source": []
        },
        {
            "cell_type": "markdown",
            "metadata": {},
            "source": [
                "## Summary\n",
                "OK, we were just warming up! Proceed to [the next section](10%20pandas%20and%20matplotlib%20basics.ipynb)\n",
                "\n",
                "If you want to dive deeper into this topic, take a look at my [blog posts on that topic](http://www.feststelltaste.de/category/software-analytics/). I'm looking forward to your comments and feedback on [GitHub](https://github.com/feststelltaste/software-analytics-workshop/issues) or on [Twitter](https://www.twitter.com/feststelltaste)!"
            ]
        }
    ],
    "metadata": {
        "kernelspec": {
            "display_name": "Python 3",
            "language": "python",
            "name": "python3"
        },
        "language_info": {
            "codemirror_mode": {
                "name": "ipython",
                "version": 3
            },
            "file_extension": ".py",
            "mimetype": "text/x-python",
            "name": "python",
            "nbconvert_exporter": "python",
            "pygments_lexer": "ipython3",
            "version": "3.8.3"
        }
    },
    "nbformat": 4,
    "nbformat_minor": 2
}