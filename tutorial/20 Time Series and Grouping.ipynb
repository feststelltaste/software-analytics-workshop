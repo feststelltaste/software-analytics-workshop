{
    "cells": [
        {
            "cell_type": "markdown",
            "metadata": {},
            "source": [
                "# Software Analytics Mini Tutorial Part III: Working with Time Series"
            ]
        },
        {
            "cell_type": "markdown",
            "metadata": {},
            "source": [
                "## Introduction\n",
                "This series of notebooks are a simple mini tutorial to introduce you to the basic functionality of Jupyter, Python, pandas and matplotlib. The comprehensive explanations should guide you to be able to analyze software data on your own. Therefore, the examples is chosen in such a way that we come across the typical methods in a data analysis. Have fun!\n",
                "\n",
                "*This is part III: The basic of the time series analysis with pandas.*"
            ]
        },
        {
            "cell_type": "markdown",
            "metadata": {},
            "source": [
                "## The analysis goal\n",
                "In this mini tutorial, we want to find out for the Linux kernel software project \n",
                "* Question 1: At what hour of the day the commits are made?\n",
                "* Question 2: At which weekday commits occur?\n",
                "* Question 3: How the daily progress of the development was?"
            ]
        },
        {
            "cell_type": "markdown",
            "metadata": {},
            "source": [
                "## The dataset\n",
                "\n",
                "#### Import dataset\n",
                "1. import pandas\n",
                "1. read in `../datasets/git_log_linux_authors_timestamps.gz` into `log`.\n",
                "1. display the first five entries"
            ]
        },
        {
            "cell_type": "code",
            "execution_count": null,
            "metadata": {
                "tags": [
                    "delete"
                ]
            },
            "outputs": [],
            "source": []
        },
        {
            "cell_type": "markdown",
            "metadata": {},
            "source": [
                "## Working with time-based data\n",
                "Now let's look at the timestamp information."
            ]
        },
        {
            "cell_type": "markdown",
            "metadata": {},
            "source": [
                "### Question 1: Daytime of Commits\n",
                "\n",
                "First, we want to find out at what time of day the developers commit."
            ]
        },
        {
            "cell_type": "markdown",
            "metadata": {},
            "source": [
                "#### View timestamp column\n",
                "1. display the first five entries of the series `timestamp`."
            ]
        },
        {
            "cell_type": "code",
            "execution_count": null,
            "metadata": {
                "tags": [
                    "delete"
                ]
            },
            "outputs": [],
            "source": []
        },
        {
            "cell_type": "markdown",
            "metadata": {},
            "source": [
                "#### Convert to the Timestamp data type\n",
                "\n",
                "The data type of the `timestamp` series is still* `object` (because it's plain text from the CSV file). To work with the time capabilities of pandas, we need to convert this data to pandas', we need a `Timestamp` data type.\n",
                "\n",
                "\n",
                "1. use the pandas function `pd.to_datetime` to convert the column `timestamp` into a real date data type.\n",
                "1. write the result into the new variable `ts` (abbreviation for \"timestamp\")*.\n",
                "1. output the first five entries.\n",
                "\n",
                "**Note: We could have also overridden the `timestamp` series. But to show some pandas functionality, we use a separate Series.*"
            ]
        },
        {
            "cell_type": "code",
            "execution_count": null,
            "metadata": {
                "tags": [
                    "delete"
                ]
            },
            "outputs": [],
            "source": []
        },
        {
            "cell_type": "markdown",
            "metadata": {},
            "source": [
                "##### Discussion\n",
                "* Was the conversion successful? \n",
                "* What could possibly happen during the conversion?\n",
                "* How could you treat issues that occur?"
            ]
        },
        {
            "cell_type": "markdown",
            "metadata": {
                "tags": [
                    "delete"
                ]
            },
            "source": []
        },
        {
            "cell_type": "markdown",
            "metadata": {},
            "source": [
                "#### Work with hourly data\n",
                "1. access the date object `dt` of the Series `ts`.\n",
                "2. inspect the hours of the `hour` property of the `dt` object.\n",
                "3. store the hours into a new Series `hour`"
            ]
        },
        {
            "cell_type": "code",
            "execution_count": null,
            "metadata": {
                "tags": [
                    "delete"
                ]
            },
            "outputs": [],
            "source": []
        },
        {
            "cell_type": "markdown",
            "metadata": {},
            "source": [
                "#### Add a new Series to a DataFrame\n",
                "\n",
                "1. Add the `hour` Series to the existing `log` DataFrame with the syntax\n",
                "\n",
                "```python\n",
                "<DataFrame>['<new Series name>'] = <Series>\n",
                "```\n",
                "2. print out the first five entries of `log`."
            ]
        },
        {
            "cell_type": "code",
            "execution_count": null,
            "metadata": {
                "tags": [
                    "delete"
                ]
            },
            "outputs": [],
            "source": []
        },
        {
            "cell_type": "markdown",
            "metadata": {},
            "source": [
                "#### Find out the favorite commit times\n",
                "1. sum up the number of commits (=rows) for each hour\n",
                "1. sort the index with `sort_index()` to list the hours in an ascending order\n",
                "1. save the result in `commits_per_hour`\n",
                "1. display the first five entries"
            ]
        },
        {
            "cell_type": "code",
            "execution_count": null,
            "metadata": {
                "tags": [
                    "delete"
                ]
            },
            "outputs": [],
            "source": []
        },
        {
            "cell_type": "markdown",
            "metadata": {},
            "source": [
                "#### Visualize the hourly commit result\n",
                "1. plot a bar chart of the hourly commit counts."
            ]
        },
        {
            "cell_type": "code",
            "execution_count": null,
            "metadata": {
                "tags": [
                    "delete"
                ]
            },
            "outputs": [],
            "source": []
        },
        {
            "cell_type": "markdown",
            "metadata": {},
            "source": [
                "#### Enhance the visualization\n",
                "\n",
                "We store the return object of the `bar()` function in the variable `ax`. This is an `Axes` object of the underlying plotting library `matplotlib`, through which we can customize additional properties of the plot.\n",
                "\n",
                "1. add the title \"Commits per Hour\" via `set_title(\"<titel name>\")`\n",
                "1. add the label \"Hour of Day\" of the X-axis with `set_xlabel(\"<X-axis label name>\")`\n",
                "1. add the label \"Number of Commits\" of the Y-axis with `set_ylabel(<\"Y-axis label name>\")`"
            ]
        },
        {
            "cell_type": "code",
            "execution_count": null,
            "metadata": {
                "tags": [
                    "delete"
                ]
            },
            "outputs": [],
            "source": []
        },
        {
            "cell_type": "markdown",
            "metadata": {},
            "source": [
                "##### Discussion\n",
                "\n",
                "* What do you find interesting?\n",
                "* What could be differences compared to the commit distribution for software systems within a company?\n",
                "* What is wrong with this approach of counting all the working hours per day?"
            ]
        },
        {
            "cell_type": "markdown",
            "metadata": {
                "tags": [
                    "delete"
                ]
            },
            "source": []
        },
        {
            "cell_type": "markdown",
            "metadata": {},
            "source": [
                "#### Reworking the time-based analysis\n",
                "1. To address some of the issues above, we first take a subgroup of the commits first with `sample(50)` on the `log` DataFrame and put it into a `sample` variable."
            ]
        },
        {
            "cell_type": "code",
            "execution_count": null,
            "metadata": {
                "tags": [
                    "delete"
                ]
            },
            "outputs": [],
            "source": []
        },
        {
            "cell_type": "markdown",
            "metadata": {},
            "source": [
                "#### Working with time-based data\n",
                "1. Convert the `timestamp` column to a read `datetime` data format.\n",
                "1. Make the `timestamp` column the new index with the `set_index(\"<column_name>\")` method.\n",
                "1. Store the newly indexed DataFrame in `timed_sample`."
            ]
        },
        {
            "cell_type": "code",
            "execution_count": null,
            "metadata": {
                "tags": [
                    "delete"
                ]
            },
            "outputs": [],
            "source": []
        },
        {
            "cell_type": "markdown",
            "metadata": {},
            "source": [
                "#### Resampling time series\n",
                "1. create a new DataFrame `hourly_commits` that counts all commits in an hour for all commits using `resample()`."
            ]
        },
        {
            "cell_type": "code",
            "execution_count": null,
            "metadata": {
                "tags": [
                    "delete"
                ]
            },
            "outputs": [],
            "source": []
        },
        {
            "cell_type": "markdown",
            "metadata": {},
            "source": [
                "#### Get hour of day\n",
                "1. Take the `hour` property of the index object and put it into the new column `hour_of_day`."
            ]
        },
        {
            "cell_type": "code",
            "execution_count": null,
            "metadata": {
                "tags": [
                    "delete"
                ]
            },
            "outputs": [],
            "source": []
        },
        {
            "cell_type": "markdown",
            "metadata": {},
            "source": [
                "#### Sum up commits per hour of day\n",
                "1. use `groupby(\"<column_name>\")` with `sum()` to sum all commits that occured at the same hour of the say\n",
                "1. store the result in a `commits_per_hour_of_day` DataFrame"
            ]
        },
        {
            "cell_type": "code",
            "execution_count": null,
            "metadata": {
                "tags": [
                    "delete"
                ]
            },
            "outputs": [],
            "source": []
        },
        {
            "cell_type": "markdown",
            "metadata": {},
            "source": [
                "#### Visualized the results\n",
                "1. plot a bar chart for the result (you just need one column for this)"
            ]
        },
        {
            "cell_type": "code",
            "execution_count": null,
            "metadata": {
                "tags": [
                    "delete"
                ]
            },
            "outputs": [],
            "source": []
        },
        {
            "cell_type": "markdown",
            "metadata": {},
            "source": [
                "##### Discussion\n",
                "\n",
                "* What's the difference?"
            ]
        },
        {
            "cell_type": "markdown",
            "metadata": {
                "tags": [
                    "delete"
                ]
            },
            "source": []
        },
        {
            "cell_type": "markdown",
            "metadata": {},
            "source": [
                "### Question 2: Commits per weekday\n",
                "\n",
                "We can also analyze the commits per weekdays."
            ]
        },
        {
            "cell_type": "markdown",
            "metadata": {},
            "source": [
                "#### Retrieve the weekday number\n",
                "\n",
                "1. store the weekday number into an additional Series `weekday` in `log` by using the `dayofweek` property of `dt` from the `ts` Series\n",
                "1. store the weekday name into an additional Series `weekday_name` in `log` by using the `day_name()` method of `dt` from the `ts` Series\n",
                "1. display the first five entries\n",
                "\n",
                "*Note: The `ts` Series and the `log` DataFrame fit nicely together because the have the same so-called* `index` *(the mechanism that takes care of the order in a DataFrame or Series).*"
            ]
        },
        {
            "cell_type": "code",
            "execution_count": null,
            "metadata": {
                "tags": [
                    "delete"
                ]
            },
            "outputs": [],
            "source": []
        },
        {
            "cell_type": "markdown",
            "metadata": {},
            "source": [
                "#### Group data\n",
                "\n",
                "Now it's getting tricky. We need to group the values by the `weekday_name` day names but have also to keep the the order of the data with `weekday`.\n",
                "\n",
                "1. use `groupby` from the `log` DataFrame to group the list of Series `['weekday', 'weekday_name']`.\n",
                "1. select just the `timestamp` Series as remaining data\n",
                "1. aggregate the timestamp values with the `count()` method\n",
                "1. display all results"
            ]
        },
        {
            "cell_type": "code",
            "execution_count": null,
            "metadata": {
                "tags": [
                    "delete"
                ]
            },
            "outputs": [],
            "source": []
        },
        {
            "cell_type": "markdown",
            "metadata": {},
            "source": [
                "#### Partially reset the index\n",
                "\n",
                "Now we need to just keep the ordered `weekday_name` as index.\n",
                "\n",
                "1. use the `reset_index` method with `level=0` as parameter to move the first index level back to a normal Series\n",
                "1. store the new indexed DataFrame into the `commits_per_day_name`\n",
                "1. display all results"
            ]
        },
        {
            "cell_type": "code",
            "execution_count": null,
            "metadata": {
                "tags": [
                    "delete"
                ]
            },
            "outputs": [],
            "source": []
        },
        {
            "cell_type": "markdown",
            "metadata": {},
            "source": [
                "#### Plot the commits per weekday\n",
                "\n",
                "1. plot the Series `timestamp` of `commits_per_day_name` as bar chart."
            ]
        },
        {
            "cell_type": "code",
            "execution_count": null,
            "metadata": {
                "tags": [
                    "delete"
                ]
            },
            "outputs": [],
            "source": []
        },
        {
            "cell_type": "markdown",
            "metadata": {},
            "source": [
                "### Question 3: Overall daily progress\n",
                "\n",
                "In the following, we want to see the progress of the number of commits over the last years by using a `DatetimeIndex` based DataFrame. We want to aggregate the number of commits for each day."
            ]
        },
        {
            "cell_type": "markdown",
            "metadata": {},
            "source": [
                "#### Create a time-based DataFrame\n",
                "\n",
                "1. set the `ts` Series from above as index using `set_index(<Series>)`\n",
                "1. just select the `author` column (we just need one column for the counting later on)\n",
                "1. store the result in `log_timed`\n",
                "1. display the five first entries"
            ]
        },
        {
            "cell_type": "code",
            "execution_count": null,
            "metadata": {
                "tags": [
                    "delete"
                ]
            },
            "outputs": [],
            "source": []
        },
        {
            "cell_type": "markdown",
            "metadata": {},
            "source": [
                "#### Resample the dataset\n",
                "\n",
                "1. use the `resample(\"<time unit>\")` function of `log_timed` to group values on a daily basis using `\"D\"\u00b4*\n",
                "1. count the values per day using the `count()` method\n",
                "1. store the result in `commits_per_day`\n",
                "1. display the first five entries\n",
                "\n",
                "**Other time units are for example months (`M`), quarters (`Q`) or years (`A`).*"
            ]
        },
        {
            "cell_type": "code",
            "execution_count": null,
            "metadata": {
                "tags": [
                    "delete"
                ]
            },
            "outputs": [],
            "source": []
        },
        {
            "cell_type": "markdown",
            "metadata": {},
            "source": [
                "#### Calculate the progress\n",
                "\n",
                "To show the commit history over time, we calculate the cumulative sum of all daily entries. This sums up all values one after another.\n",
                "\n",
                "1. use `cumsum()` on `commits_per_day`\n",
                "1. store the result in `commits_per_day_cumulative`\n",
                "1. display the first five results\n",
                "\n"
            ]
        },
        {
            "cell_type": "code",
            "execution_count": null,
            "metadata": {
                "tags": [
                    "delete"
                ]
            },
            "outputs": [],
            "source": []
        },
        {
            "cell_type": "markdown",
            "metadata": {},
            "source": [
                "#### Plot the results\n",
                "\n",
                "1 . plot the results of the accumulated values as a line chart."
            ]
        },
        {
            "cell_type": "code",
            "execution_count": null,
            "metadata": {
                "tags": [
                    "delete"
                ]
            },
            "outputs": [],
            "source": []
        },
        {
            "cell_type": "markdown",
            "metadata": {},
            "source": [
                "# Summary\n",
                "\n",
                "You've learned some basics about pandas and its usage with software data. This will hopefully get you started in your daily work. Other important topics that are still missing are:\n",
                "\n",
                "* Reading in complicated or semi-structured data structures\n",
                "* Merging different data sources with `pd.merge` and `join`\n",
                "* Transforming data with `pivot_table`\n",
                "\n",
                "But with the features shown, you are on a good way to become a Software Development Analyst that can leverage Data Science to fix problems in software systems!\n",
                "\n",
                "If you want to dive deeper into this topic, take a look at my [other blog posts on that topic](http://www.feststelltaste.de/category/software-analytics/). I'm also [offering training for companies](http://markusharrer.de/) who want to fix their problems using data analysis in software development.\n",
                "\n",
                "If you want to dive deeper into this topic, take a look at my [blog posts on that topic](http://www.feststelltaste.de/category/software-analytics/) or my microsite [softwareanalytics.de](https://softwareanalytics.de/). I'm looking forward to your comments and feedback on [GitHub](https://github.com/feststelltaste/software-analytics-workshop/issues) or on [Twitter](https://www.twitter.com/feststelltaste)!"
            ]
        }
    ],
    "metadata": {
        "kernelspec": {
            "display_name": "Python 3",
            "language": "python",
            "name": "python3"
        },
        "language_info": {
            "codemirror_mode": {
                "name": "ipython",
                "version": 3
            },
            "file_extension": ".py",
            "mimetype": "text/x-python",
            "name": "python",
            "nbconvert_exporter": "python",
            "pygments_lexer": "ipython3",
            "version": "3.8.3"
        }
    },
    "nbformat": 4,
    "nbformat_minor": 2
}