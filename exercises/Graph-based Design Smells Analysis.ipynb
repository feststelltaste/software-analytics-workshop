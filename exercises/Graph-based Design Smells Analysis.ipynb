{
 "cells": [
  {
   "cell_type": "markdown",
   "metadata": {},
   "source": [
    "# Graph-based Design Smells Analysis\n",
    "\n",
    "In the GitHub-Repository https://github.com/feststelltaste/designsmells, there are many hidden design smells in the Java code.\n",
    "\n",
    "The following code tries to find some of them. \n",
    "\n",
    "Hint: For the database schema, please take a look at http://jqassistant.github.io/jqassistant/doc/1.8.0/#_java_plugin\n"
   ]
  },
  {
   "cell_type": "markdown",
   "metadata": {},
   "source": [
    "## Establish connection\n",
    "Credentials and connection to the pre-loaded Neo4j database (read-only mode).\n",
    "\n",
    "You can also use the credentials to directly login into the Neo4j database's frontend.\n",
    "More details for the login see here https://github.com/feststelltaste/designsmells#online-version "
   ]
  },
  {
   "cell_type": "code",
   "execution_count": null,
   "metadata": {},
   "outputs": [],
   "source": [
    "from py2neo import Graph\n",
    "\n",
    "url = \"bolt://hobby-dhecfkdfpfnpgbkefmfnhael.dbs.graphenedb.com:24787\"\n",
    "user = \"user\"\n",
    "password= \"b.cKOL3KxJO2aW.Ivdq38GXw8SnFVJl\"\n",
    "\n",
    "graph = Graph(\n",
    "    url,\n",
    "    auth=(user, password),\n",
    "    secure=True)\n",
    "\n",
    "graph.run(\"MATCH ()-[r]->() RETURN count (r) as count\").to_data_frame()"
   ]
  },
  {
   "cell_type": "markdown",
   "metadata": {},
   "source": [
    "## Find some design smells"
   ]
  },
  {
   "cell_type": "markdown",
   "metadata": {},
   "source": [
    "### God Class\n",
    "A class or interface with very many methods."
   ]
  },
  {
   "cell_type": "code",
   "execution_count": null,
   "metadata": {},
   "outputs": [],
   "source": [
    "query = \"\"\"\n",
    "???\n",
    "\"\"\"\n",
    "graph.run(query).to_data_frame()"
   ]
  },
  {
   "cell_type": "markdown",
   "metadata": {},
   "source": [
    "### Complex Hierarchy \n",
    "A class whose inheritance hierarchy goes very deep.\n"
   ]
  },
  {
   "cell_type": "code",
   "execution_count": null,
   "metadata": {},
   "outputs": [],
   "source": [
    "query = \"\"\"\n",
    "???\n",
    "\"\"\"\n",
    "graph.run(query).to_data_frame()"
   ]
  },
  {
   "cell_type": "markdown",
   "metadata": {},
   "source": [
    "### Deficient Encapsulation\n",
    "A class declares public fields.\n"
   ]
  },
  {
   "cell_type": "code",
   "execution_count": null,
   "metadata": {},
   "outputs": [],
   "source": [
    "query = \"\"\"\n",
    "???\n",
    "  \"\"\"\n",
    "graph.run(query).to_data_frame()"
   ]
  }
 ],
 "metadata": {
  "kernelspec": {
   "display_name": "Python 3",
   "language": "python",
   "name": "python3"
  },
  "language_info": {
   "codemirror_mode": {
    "name": "ipython",
    "version": 3
   },
   "file_extension": ".py",
   "mimetype": "text/x-python",
   "name": "python",
   "nbconvert_exporter": "python",
   "pygments_lexer": "ipython3",
   "version": "3.8.3"
  }
 },
 "nbformat": 4,
 "nbformat_minor": 4
}
