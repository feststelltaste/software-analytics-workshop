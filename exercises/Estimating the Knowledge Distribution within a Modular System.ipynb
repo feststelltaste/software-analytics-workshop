{
    "cells": [
        {
            "cell_type": "markdown",
            "metadata": {
                "tags": [
                    "challenge"
                ]
            },
            "source": [
                "# Estimating the Knowledge Distribution within a Modular System"
            ]
        },
        {
            "cell_type": "markdown",
            "metadata": {
                "tags": [
                    "challenge"
                ]
            },
            "source": [
                "## Exercise\n",
                "\n",
                "_Level: Hard_\n",
                "\n",
                "### Background\n",
                "\n",
                "In software systems, multiple developers work on multiple parts of the system. These persons change all code differently within specific parts.\n",
                "\n",
                "### Your Task\n",
                "\n",
                "In this exercise, you should find out, _which author does know which percentage of the system's modules?_\n",
                "\n",
                "### The Dataset\n",
                "\n",
                "The dataset in `../datasets/git_log_numstat_dropover.csv.gz` contains the following information:\n",
                "\n",
                "* `additions`: The number of added lines per file per commit\n",
                "* `deletions`: The number of deleted lines per file per commit\n",
                "* `file`: The name of the file that was changed\n",
                "* `sha`: The unique key of the commit\n",
                "* `timestamp`: The time of the commit\n",
                "* `author`: The name of the author who did the change\n",
                "\n",
                "Here you can see the first 10 entries of the dataset:\n",
                "\n",
                "<small>\n",
                "<code>\n",
                "additions,deletions,file,sha,timestamp,author\n",
                "191.0,0.0,backend/pom-2016-07-16_04-40-56-752.xml,8c686954,2016-07-22 17:43:38,Michael\n",
                "1.0,1.0,backend/src/test/java/at/dropover/scheduling/interactor/SetFinalDateTest.java,97c6ef96,2016-07-16 09:51:15,Markus\n",
                "55.0,0.0,backend/src/test/java/at/dropover/scheduling/interactor/SetFinalDateTest.java,432113a2,2016-07-15 21:17:07,Chris\n",
                "19.0,3.0,backend/src/main/webapp/app/widgets/gallery/js/galleryController.js,3f7cf92c,2016-07-16 09:07:31,Markus\n",
                "24.0,11.0,backend/src/main/webapp/app/widgets/gallery/js/galleryController.js,bf2b00ba,2014-10-26 05:52:48,Michael\n",
                "294.0,0.0,backend/src/main/webapp/app/widgets/gallery/js/galleryController.js,62f4013b,2014-10-11 22:24:46,Michael\n",
                "1.0,1.0,backend/src/main/webapp/app/widgets/gallery/views/galleryView.html,3f7cf92c,2016-07-16 09:07:31,Markus\n",
                "5.0,5.0,backend/src/main/webapp/app/widgets/gallery/views/galleryView.html,bf2b00ba,2014-10-26 05:52:48,Michael\n",
                "75.0,0.0,backend/src/main/webapp/app/widgets/gallery/views/galleryView.html,62f4013b,2014-10-11 22:24:46,Michael\n",
                "</code>\n",
                "</small>\n",
                "\n",
                "### Further Information\n",
                "\n",
                "The system under investigation has several peculiarities:\n",
                "\n",
                "* It was developed by only three people: Chris, Markus and Michael. Each of these developers worked more or less on one or more modules.\n",
                "* The system was structured along business modules with functionality like comment, creator, scheduling and so on. You can find this information at the 7th place in filepath.\n",
                "* The relevant source code for the backend was written in Java. These files use `.java` as file extensions.\n",
                "* The interesting files of the system are the ones that begin with `backend/src/main/java/`.\n",
                "* There are also irrelevant files for this analysis in the backend named `package-info.java`."
            ]
        },
        {
            "cell_type": "markdown",
            "metadata": {},
            "source": [
                "## Idea\n",
                "\n",
                "Working assumption: The number of commits from an author within a certain module corresponds to the existing knowledge about that module."
            ]
        },
        {
            "cell_type": "markdown",
            "metadata": {},
            "source": [
                "## Data Loading\n",
                "Retrieve Git log information from a Git repository"
            ]
        },
        {
            "cell_type": "code",
            "execution_count": null,
            "metadata": {
                "tags": [
                    "delete"
                ]
            },
            "outputs": [],
            "source": []
        },
        {
            "cell_type": "markdown",
            "metadata": {},
            "source": [
                "## Data Cleaning\n",
                "Just keep the code that is of interest."
            ]
        },
        {
            "cell_type": "code",
            "execution_count": null,
            "metadata": {
                "tags": [
                    "delete"
                ]
            },
            "outputs": [],
            "source": []
        },
        {
            "cell_type": "markdown",
            "metadata": {},
            "source": [
                "## Analysis\n",
                "First, find out _which author has how much overall \"knowledge\"?_"
            ]
        },
        {
            "cell_type": "code",
            "execution_count": null,
            "metadata": {
                "tags": [
                    "delete"
                ]
            },
            "outputs": [],
            "source": []
        },
        {
            "cell_type": "markdown",
            "metadata": {},
            "source": [
                "Extract the information about a the business modules."
            ]
        },
        {
            "cell_type": "code",
            "execution_count": null,
            "metadata": {
                "tags": [
                    "delete"
                ]
            },
            "outputs": [],
            "source": []
        },
        {
            "cell_type": "markdown",
            "metadata": {},
            "source": [
                "## Interpretation\n",
                "List all the existing knowledge ratios per modules and authors"
            ]
        },
        {
            "cell_type": "code",
            "execution_count": null,
            "metadata": {
                "tags": [
                    "delete"
                ]
            },
            "outputs": [],
            "source": []
        },
        {
            "cell_type": "markdown",
            "metadata": {},
            "source": [
                "## Visualization\n",
                "Plot the result for each module in a bar chart"
            ]
        },
        {
            "cell_type": "code",
            "execution_count": null,
            "metadata": {
                "tags": [
                    "delete"
                ]
            },
            "outputs": [],
            "source": []
        },
        {
            "cell_type": "code",
            "execution_count": null,
            "metadata": {},
            "outputs": [
                {
                    "data": {
                        "text/plain": [
                            "Index(['comment', 'creator', 'files', 'framework', 'mail', 'scheduling',\n",
                            "       'site', 'todo'],\n",
                            "      dtype='object', name='module')"
                        ]
                    },
                    "execution_count": 8,
                    "metadata": {},
                    "output_type": "execute_result"
                }
            ],
            "source": [
                "knowledge_per_module.unstack()['ratio'].index"
            ]
        }
    ],
    "metadata": {
        "kernelspec": {
            "display_name": "Python 3",
            "language": "python",
            "name": "python3"
        },
        "language_info": {
            "codemirror_mode": {
                "name": "ipython",
                "version": 3
            },
            "file_extension": ".py",
            "mimetype": "text/x-python",
            "name": "python",
            "nbconvert_exporter": "python",
            "pygments_lexer": "ipython3",
            "version": "3.6.4"
        }
    },
    "nbformat": 4,
    "nbformat_minor": 2
}