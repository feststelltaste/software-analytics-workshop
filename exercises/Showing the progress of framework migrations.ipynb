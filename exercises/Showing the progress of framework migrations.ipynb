{
    "cells": [
        {
            "cell_type": "markdown",
            "metadata": {},
            "source": [
                "# Showing the progress of framework migrations"
            ]
        },
        {
            "cell_type": "markdown",
            "metadata": {},
            "source": [
                "## Exercise\n",
                "\n",
                "### Background\n",
                "In software systems, there is a need to change some code that is entangled in all the other code parts of your system. Especially when you need to replace a framework, huge efforts and endurance are needed to successfully change from one framework to the another. Here it is crucial to deliver  information about the current progress of the replacement activity.\n",
                "\n",
                "### Your task\n",
                "\n",
                "In this exercise, you should demonstrate the progress of the replacement of a database access framework. In particular, there is some code that uses a library called \"Java Database Connectivity\" (or \"JDBC\" for short). This library has many custom code that is now supported by a more advanced library called \"Java Persistence API\" (or \"JPA\" for short). Show the progress in regards of existing source code lines for both technologies!\n",
                "\n",
                "### The dataset\n",
                "There is already a code base where the replacement is ongoing. You also have a dataset from the Git repository that the team uses in `../datasets/git_log_database_refactoring.gz` .\n",
                "\n",
                "In this dataset, you can find the following information for each change of each file:\n",
                "\n",
                "* `additions`: number of the lines added\n",
                "* `deletions`: number of the lines deleted\n",
                "* `file`: the relative path of the file\n",
                "* `timestamp`: the date of the commit\n",
                "\n",
                "The `file` column contains some information about the framework technology used. Some directory names (= \"package name\" in the Java programming language) have a directory named `jdbc` and others have a directoy named `jpa`."
            ]
        },
        {
            "cell_type": "markdown",
            "metadata": {},
            "source": [
                "## Your solution"
            ]
        },
        {
            "cell_type": "markdown",
            "metadata": {},
            "source": [
                "### Step 1: Load in the dataset"
            ]
        },
        {
            "cell_type": "code",
            "execution_count": null,
            "metadata": {
                "tags": [
                    "delete"
                ]
            },
            "outputs": [],
            "source": []
        },
        {
            "cell_type": "markdown",
            "metadata": {},
            "source": [
                "### Step 2: Parse the data as needed"
            ]
        },
        {
            "cell_type": "code",
            "execution_count": null,
            "metadata": {
                "tags": [
                    "delete"
                ]
            },
            "outputs": [],
            "source": []
        },
        {
            "cell_type": "markdown",
            "metadata": {},
            "source": [
                "### Step 3: Find the information about the used technology"
            ]
        },
        {
            "cell_type": "code",
            "execution_count": null,
            "metadata": {
                "tags": [
                    "delete"
                ]
            },
            "outputs": [],
            "source": []
        },
        {
            "cell_type": "markdown",
            "metadata": {},
            "source": [
                "### Step 4: Estimate the lines of code"
            ]
        },
        {
            "cell_type": "code",
            "execution_count": null,
            "metadata": {
                "tags": [
                    "delete"
                ]
            },
            "outputs": [],
            "source": []
        },
        {
            "cell_type": "markdown",
            "metadata": {},
            "source": [
                "### Step 5: Track the progress over time\n",
                "Hint: Sum up the lines of code along the timestamp and the used technology."
            ]
        },
        {
            "cell_type": "code",
            "execution_count": null,
            "metadata": {
                "tags": [
                    "delete"
                ]
            },
            "outputs": [],
            "source": []
        },
        {
            "cell_type": "markdown",
            "metadata": {},
            "source": [
                "### Step 6: List the progress of the tech replacement side by side\n",
                "Hint: Unstack the dataframe first"
            ]
        },
        {
            "cell_type": "code",
            "execution_count": null,
            "metadata": {
                "tags": [
                    "delete"
                ]
            },
            "outputs": [],
            "source": []
        },
        {
            "cell_type": "markdown",
            "metadata": {},
            "source": [
                "### Step 7: Visualize the progress of the replacement"
            ]
        },
        {
            "cell_type": "code",
            "execution_count": null,
            "metadata": {
                "tags": [
                    "delete"
                ]
            },
            "outputs": [],
            "source": []
        },
        {
            "cell_type": "markdown",
            "metadata": {},
            "source": [
                "### Step 8: What are your conclusions? Discuss!"
            ]
        }
    ],
    "metadata": {
        "kernelspec": {
            "display_name": "Python 3",
            "language": "python",
            "name": "python3"
        },
        "language_info": {
            "codemirror_mode": {
                "name": "ipython",
                "version": 3
            },
            "file_extension": ".py",
            "mimetype": "text/x-python",
            "name": "python",
            "nbconvert_exporter": "python",
            "pygments_lexer": "ipython3",
            "version": "3.6.4"
        }
    },
    "nbformat": 4,
    "nbformat_minor": 2
}